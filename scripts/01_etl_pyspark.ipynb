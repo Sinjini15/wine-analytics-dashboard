{
 "cells": [
  {
   "cell_type": "code",
   "execution_count": 2,
   "id": "d022c503",
   "metadata": {},
   "outputs": [
    {
     "name": "stderr",
     "output_type": "stream",
     "text": [
      "25/04/22 19:36:31 WARN MemoryManager: Total allocation exceeds 95.00% (1,020,054,720 bytes) of heap memory\n",
      "Scaling row group sizes to 95.00% for 8 writers\n",
      "25/04/22 19:36:31 WARN MemoryManager: Total allocation exceeds 95.00% (1,020,054,720 bytes) of heap memory\n",
      "Scaling row group sizes to 84.44% for 9 writers\n",
      "25/04/22 19:36:31 WARN MemoryManager: Total allocation exceeds 95.00% (1,020,054,720 bytes) of heap memory\n",
      "Scaling row group sizes to 76.00% for 10 writers\n",
      "25/04/22 19:36:31 WARN MemoryManager: Total allocation exceeds 95.00% (1,020,054,720 bytes) of heap memory\n",
      "Scaling row group sizes to 69.09% for 11 writers\n",
      "25/04/22 19:36:31 WARN MemoryManager: Total allocation exceeds 95.00% (1,020,054,720 bytes) of heap memory\n",
      "Scaling row group sizes to 63.33% for 12 writers\n",
      "25/04/22 19:36:31 WARN CSVHeaderChecker: CSV header does not conform to the schema.\n",
      " Header: , country, description, designation, points, price, province, region_1, region_2, variety, winery\n",
      " Schema: _c0, country, description, designation, points, price, province, region_1, region_2, variety, winery\n",
      "Expected: _c0 but found: \n",
      "CSV file: file:///home/smitra16/symrise-etl/data/winemag-data_first150k.csv\n",
      "25/04/22 19:36:35 WARN MemoryManager: Total allocation exceeds 95.00% (1,020,054,720 bytes) of heap memory\n",
      "Scaling row group sizes to 69.09% for 11 writers\n",
      "25/04/22 19:36:35 WARN MemoryManager: Total allocation exceeds 95.00% (1,020,054,720 bytes) of heap memory\n",
      "Scaling row group sizes to 76.00% for 10 writers\n",
      "25/04/22 19:36:35 WARN MemoryManager: Total allocation exceeds 95.00% (1,020,054,720 bytes) of heap memory\n",
      "Scaling row group sizes to 84.44% for 9 writers\n",
      "25/04/22 19:36:35 WARN MemoryManager: Total allocation exceeds 95.00% (1,020,054,720 bytes) of heap memory\n",
      "Scaling row group sizes to 95.00% for 8 writers\n",
      "                                                                                \r"
     ]
    },
    {
     "name": "stdout",
     "output_type": "stream",
     "text": [
      "+---+-------+--------------------+--------------------+------+-----+--------------+-----------------+-----------------+------------------+--------------------+--------------------+\n",
      "|_c0|country|         description|         designation|points|price|      province|         region_1|         region_2|           variety|              winery|   description_clean|\n",
      "+---+-------+--------------------+--------------------+------+-----+--------------+-----------------+-----------------+------------------+--------------------+--------------------+\n",
      "|  0|     US|This tremendous 1...|   Martha's Vineyard|    96|235.0|    California|      Napa Valley|             Napa|Cabernet Sauvignon|               Heitz|this tremendous 1...|\n",
      "|  1|  Spain|Ripe aromas of fi...|Carodorum Selecci...|    96|110.0|Northern Spain|             Toro|             NULL|     Tinta de Toro|Bodega Carmen Rod...|ripe aromas of fi...|\n",
      "|  2|     US|Mac Watson honors...|Special Selected ...|    96| 90.0|    California|   Knights Valley|           Sonoma|   Sauvignon Blanc|            Macauley|mac watson honors...|\n",
      "|  3|     US|This spent 20 mon...|             Reserve|    96| 65.0|        Oregon|Willamette Valley|Willamette Valley|        Pinot Noir|               Ponzi|this spent 20 mon...|\n",
      "|  4| France|This is the top w...|          La Brûlade|    95| 66.0|      Provence|           Bandol|             NULL|Provence red blend|Domaine de la Bégude|this is the top w...|\n",
      "+---+-------+--------------------+--------------------+------+-----+--------------+-----------------+-----------------+------------------+--------------------+--------------------+\n",
      "only showing top 5 rows\n",
      "\n"
     ]
    },
    {
     "name": "stderr",
     "output_type": "stream",
     "text": [
      "25/04/22 19:36:35 WARN CSVHeaderChecker: CSV header does not conform to the schema.\n",
      " Header: , country, description, designation, points, price, province, region_1, region_2, variety, winery\n",
      " Schema: _c0, country, description, designation, points, price, province, region_1, region_2, variety, winery\n",
      "Expected: _c0 but found: \n",
      "CSV file: file:///home/smitra16/symrise-etl/data/winemag-data_first150k.csv\n"
     ]
    }
   ],
   "source": [
    "from pyspark.sql import SparkSession\n",
    "from pyspark.sql.functions import col, lower, regexp_replace\n",
    "\n",
    "# Create session\n",
    "spark = SparkSession.builder.appName(\"SymriseETL\").getOrCreate()\n",
    "\n",
    "# Load data\n",
    "df = spark.read.csv(\"./data/winemag-data_first150k.csv\", header=True, inferSchema=True)\n",
    "\n",
    "# Basic cleaning\n",
    "df_clean = df.dropna(subset=[\"points\", \"country\", \"description\"]) \\\n",
    "             .withColumn(\"description_clean\", lower(regexp_replace(col(\"description\"), \"[^a-zA-Z0-9 ]\", \"\")))\n",
    "\n",
    "# Save as Parquet (simulating 'Load')\n",
    "df_clean.write.mode(\"overwrite\").parquet(\"../data/clean_reviews.parquet\")\n",
    "\n",
    "df_clean.show(5)\n"
   ]
  }
 ],
 "metadata": {
  "kernelspec": {
   "display_name": "sch_env",
   "language": "python",
   "name": "python3"
  },
  "language_info": {
   "codemirror_mode": {
    "name": "ipython",
    "version": 3
   },
   "file_extension": ".py",
   "mimetype": "text/x-python",
   "name": "python",
   "nbconvert_exporter": "python",
   "pygments_lexer": "ipython3",
   "version": "3.12.2"
  }
 },
 "nbformat": 4,
 "nbformat_minor": 5
}
